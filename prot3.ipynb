{
  "cells": [
    {
      "cell_type": "markdown",
      "metadata": {
        "id": "view-in-github",
        "colab_type": "text"
      },
      "source": [
        "<a href=\"https://colab.research.google.com/github/ANUBHAV4646/PRODIGY_GAI_02/blob/main/prot3.ipynb\" target=\"_parent\"><img src=\"https://colab.research.google.com/assets/colab-badge.svg\" alt=\"Open In Colab\"/></a>"
      ]
    },
    {
      "cell_type": "code",
      "execution_count": null,
      "metadata": {
        "id": "vFlRlrbW6YpU"
      },
      "outputs": [],
      "source": [
        "!pip install torch torchvision torchaudio --quiet\n",
        "!pip install diffusers transformers scipy ftfy accelerate --quiet"
      ]
    },
    {
      "cell_type": "code",
      "execution_count": null,
      "metadata": {
        "id": "29uDAnQX6YpX"
      },
      "outputs": [],
      "source": [
        "from diffusers import StableDiffusionPipeline\n",
        "import torch\n",
        "from IPython.display import display\n",
        "from google.colab import files\n",
        "\n",
        "def load_pipeline():\n",
        "    device = \"cuda\" if torch.cuda.is_available() else \"cpu\"\n",
        "    print(f\"Using device: {device}\")\n",
        "    model_id = \"runwayml/stable-diffusion-v1-5\"\n",
        "    if device == \"cuda\":\n",
        "        pipe = StableDiffusionPipeline.from_pretrained(model_id, torch_dtype=torch.float16)\n",
        "    else:\n",
        "        pipe = StableDiffusionPipeline.from_pretrained(model_id)\n",
        "    pipe = pipe.to(device)\n",
        "    pipe.safety_checker = None\n",
        "    return pipe\n",
        "\n",
        "def generate_image(pipe, prompt):\n",
        "    image = pipe(prompt).images[0]\n",
        "    return image\n",
        "\n",
        "pipe = load_pipeline()\n",
        "prompt = input(\"Enter your image prompt: \")\n",
        "image = generate_image(pipe, prompt)\n",
        "display(image)\n",
        "image.save(\"generated_image.png\")\n",
        "files.download(\"generated_image.png\")"
      ]
    }
  ],
  "metadata": {
    "kernelspec": {
      "display_name": "Python 3",
      "name": "python3"
    },
    "language_info": {
      "name": "python"
    },
    "colab": {
      "provenance": [],
      "include_colab_link": true
    }
  },
  "nbformat": 4,
  "nbformat_minor": 0
}